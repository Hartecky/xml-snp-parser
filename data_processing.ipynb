{
 "metadata": {
  "language_info": {
   "codemirror_mode": {
    "name": "ipython",
    "version": 3
   },
   "file_extension": ".py",
   "mimetype": "text/x-python",
   "name": "python",
   "nbconvert_exporter": "python",
   "pygments_lexer": "ipython3",
   "version": "3.9.2"
  },
  "orig_nbformat": 4,
  "kernelspec": {
   "name": "python3",
   "display_name": "Python 3.9.2 64-bit"
  },
  "interpreter": {
   "hash": "650062b45053f96de9f04c79ca61478022c04421f35cfec48e2148cc5abf4864"
  }
 },
 "nbformat": 4,
 "nbformat_minor": 2,
 "cells": [
  {
   "source": [
    "### Wczytanie bibliotek + wczytywanie danych"
   ],
   "cell_type": "markdown",
   "metadata": {}
  },
  {
   "cell_type": "code",
   "execution_count": 1,
   "metadata": {},
   "outputs": [],
   "source": [
    "import pandas as pd"
   ]
  },
  {
   "cell_type": "code",
   "execution_count": 45,
   "metadata": {},
   "outputs": [],
   "source": [
    "df = pd.read_csv('results.txt', sep=';', header=None)\n",
    "df.columns = [\"Gene\", \"Ref_rsID\", \"Ref_position\", \"Ref_genotype\", \"Ref_orientation\", \"SNP_rsID\", \"SNP_pos\", \"SNP_dist\", \"SNP_genotype\", \"SNP_orientation\"]"
   ]
  },
  {
   "cell_type": "code",
   "execution_count": 46,
   "metadata": {},
   "outputs": [
    {
     "output_type": "execute_result",
     "data": {
      "text/plain": [
       "    Gene   Ref_rsID  Ref_position Ref_genotype Ref_orientation     SNP_rsID  \\\n",
       "0  ABCA1  rs2230806     104858585          A/G             rev    rs9282538   \n",
       "1  ABCA1  rs2230806     104858585          A/G             rev  rs753234040   \n",
       "2  ABCA1  rs2230806     104858585          A/G             rev  rs754164345   \n",
       "3  ABCA1  rs2230806     104858585          A/G             rev  rs756643592   \n",
       "4  ABCA1  rs2230806     104858585          A/G             rev  rs778130619   \n",
       "\n",
       "     SNP_pos  SNP_dist SNP_genotype SNP_orientation  \n",
       "0  104858590         5          A/G             rev  \n",
       "1  104858568       -17          C/T             fwd  \n",
       "2  104858584        -1          C/T             fwd  \n",
       "3  104858575       -10          C/T             fwd  \n",
       "4  104858577        -8        A/C/G             fwd  "
      ],
      "text/html": "<div>\n<style scoped>\n    .dataframe tbody tr th:only-of-type {\n        vertical-align: middle;\n    }\n\n    .dataframe tbody tr th {\n        vertical-align: top;\n    }\n\n    .dataframe thead th {\n        text-align: right;\n    }\n</style>\n<table border=\"1\" class=\"dataframe\">\n  <thead>\n    <tr style=\"text-align: right;\">\n      <th></th>\n      <th>Gene</th>\n      <th>Ref_rsID</th>\n      <th>Ref_position</th>\n      <th>Ref_genotype</th>\n      <th>Ref_orientation</th>\n      <th>SNP_rsID</th>\n      <th>SNP_pos</th>\n      <th>SNP_dist</th>\n      <th>SNP_genotype</th>\n      <th>SNP_orientation</th>\n    </tr>\n  </thead>\n  <tbody>\n    <tr>\n      <th>0</th>\n      <td>ABCA1</td>\n      <td>rs2230806</td>\n      <td>104858585</td>\n      <td>A/G</td>\n      <td>rev</td>\n      <td>rs9282538</td>\n      <td>104858590</td>\n      <td>5</td>\n      <td>A/G</td>\n      <td>rev</td>\n    </tr>\n    <tr>\n      <th>1</th>\n      <td>ABCA1</td>\n      <td>rs2230806</td>\n      <td>104858585</td>\n      <td>A/G</td>\n      <td>rev</td>\n      <td>rs753234040</td>\n      <td>104858568</td>\n      <td>-17</td>\n      <td>C/T</td>\n      <td>fwd</td>\n    </tr>\n    <tr>\n      <th>2</th>\n      <td>ABCA1</td>\n      <td>rs2230806</td>\n      <td>104858585</td>\n      <td>A/G</td>\n      <td>rev</td>\n      <td>rs754164345</td>\n      <td>104858584</td>\n      <td>-1</td>\n      <td>C/T</td>\n      <td>fwd</td>\n    </tr>\n    <tr>\n      <th>3</th>\n      <td>ABCA1</td>\n      <td>rs2230806</td>\n      <td>104858585</td>\n      <td>A/G</td>\n      <td>rev</td>\n      <td>rs756643592</td>\n      <td>104858575</td>\n      <td>-10</td>\n      <td>C/T</td>\n      <td>fwd</td>\n    </tr>\n    <tr>\n      <th>4</th>\n      <td>ABCA1</td>\n      <td>rs2230806</td>\n      <td>104858585</td>\n      <td>A/G</td>\n      <td>rev</td>\n      <td>rs778130619</td>\n      <td>104858577</td>\n      <td>-8</td>\n      <td>A/C/G</td>\n      <td>fwd</td>\n    </tr>\n  </tbody>\n</table>\n</div>"
     },
     "metadata": {},
     "execution_count": 46
    }
   ],
   "source": [
    "df.head()"
   ]
  },
  {
   "source": [
    "### Zestawy unikalnych genów i polimorfizmów"
   ],
   "cell_type": "markdown",
   "metadata": {}
  },
  {
   "cell_type": "code",
   "execution_count": 89,
   "metadata": {},
   "outputs": [
    {
     "output_type": "stream",
     "name": "stdout",
     "text": [
      "Zestaw genów \n['ABCA1' 'ABCA2' 'ABCA7' 'ABCB1' 'APOE' 'APP' 'CHAT' 'CHRNA7' 'CYP2D6'\n 'CYP2C19' 'CYP2C8' 'CYP2C9' 'CYP3A4' 'CYP46A1' 'LRP1' 'NAT1' 'NAT2'\n 'PSEN1']\n\nZestaw badanych polimorfizmwów \n['rs2230806' 'rs908832' 'rs3764650' 'rs3752246' 'rs4147929' 'rs1045642'\n 'rs2032582' 'rs1128503' 'rs429358' 'rs7412' 'rs63750847' 'rs2177370'\n 'rs3793790' 'rs6494223' 'rs35742686' 'rs3892097' 'rs5030655' 'rs1065852'\n 'rs4244285' 'rs10509681' 'rs11572080' 'rs1058930' 'rs1799853' 'rs1057910'\n 'rs2740574' 'rs754203' 'rs1799986' 'rs1057126' 'rs15561' 'rs1799929'\n 'rs1799930' 'rs1799931' 'rs17125721']\n"
     ]
    }
   ],
   "source": [
    "unique_rsid = df['Ref_rsID'].unique()\n",
    "unique_gene = df['Gene'].unique()\n",
    "\n",
    "print(f\"Zestaw genów \\n{unique_gene}\\n\")\n",
    "\n",
    "print(f\"Zestaw badanych polimorfizmwów \\n{unique_rsid}\")"
   ]
  },
  {
   "source": [
    "### Przeliczenie liczby SNP znajdujących się w obrębie badanych polimorfizmów"
   ],
   "cell_type": "markdown",
   "metadata": {}
  },
  {
   "cell_type": "code",
   "execution_count": 81,
   "metadata": {
    "tags": []
   },
   "outputs": [
    {
     "output_type": "stream",
     "name": "stdout",
     "text": [
      "Liczba polimorfizmów w odległości 20 nukleotydów od badanych miejsc polimorficznych \n\nrsID: rs2230806  \t SNPs:    6\nrsID: rs908832   \t SNPs:    9\nrsID: rs3764650  \t SNPs:    2\nrsID: rs3752246  \t SNPs:    4\nrsID: rs4147929  \t SNPs:    4\nrsID: rs1045642  \t SNPs:    5\nrsID: rs2032582  \t SNPs:    5\nrsID: rs1128503  \t SNPs:    3\nrsID: rs429358   \t SNPs:    7\nrsID: rs7412     \t SNPs:    3\nrsID: rs63750847 \t SNPs:   10\nrsID: rs2177370  \t SNPs:    2\nrsID: rs3793790  \t SNPs:    1\nrsID: rs6494223  \t SNPs:    2\nrsID: rs35742686 \t SNPs:   11\nrsID: rs3892097  \t SNPs:   13\nrsID: rs5030655  \t SNPs:   16\nrsID: rs1065852  \t SNPs:   12\nrsID: rs4244285  \t SNPs:    5\nrsID: rs10509681 \t SNPs:   13\nrsID: rs11572080 \t SNPs:    6\nrsID: rs1058930  \t SNPs:    6\nrsID: rs1799853  \t SNPs:   12\nrsID: rs1057910  \t SNPs:   14\nrsID: rs2740574  \t SNPs:    1\nrsID: rs754203   \t SNPs:    2\nrsID: rs1799986  \t SNPs:    7\nrsID: rs1057126  \t SNPs:    4\nrsID: rs15561    \t SNPs:    4\nrsID: rs1799929  \t SNPs:    7\nrsID: rs1799930  \t SNPs:   14\nrsID: rs1799931  \t SNPs:   11\nrsID: rs17125721 \t SNPs:    4\n"
     ]
    }
   ],
   "source": [
    "print(\"Liczba polimorfizmów w odległości 20 nukleotydów od badanych miejsc polimorficznych \\n\")\n",
    "\n",
    "for rsid in unique_rsid:\n",
    "    tmp = df[df[\"Ref_rsID\"]==rsid]\n",
    "    print(f\"rsID: {rsid:10} \\t SNPs: {tmp.shape[0]:4d}\")"
   ]
  },
  {
   "cell_type": "code",
   "execution_count": 113,
   "metadata": {},
   "outputs": [
    {
     "output_type": "stream",
     "name": "stdout",
     "text": [
      "Liczba polimorfizmów w odległości 20 nukleotydów w badanych genach\nGene: ABCA1      \t SNPs:    6\nGene: ABCA2      \t SNPs:    9\nGene: ABCA7      \t SNPs:   10\nGene: ABCB1      \t SNPs:   13\nGene: APOE       \t SNPs:   10\nGene: APP        \t SNPs:   10\nGene: CHAT       \t SNPs:    3\nGene: CHRNA7     \t SNPs:    2\nGene: CYP2D6     \t SNPs:   52\nGene: CYP2C19    \t SNPs:    5\nGene: CYP2C8     \t SNPs:   25\nGene: CYP2C9     \t SNPs:   26\nGene: CYP3A4     \t SNPs:    1\nGene: CYP46A1    \t SNPs:    2\nGene: LRP1       \t SNPs:    7\nGene: NAT1       \t SNPs:    8\nGene: NAT2       \t SNPs:   32\nGene: PSEN1      \t SNPs:    4\n"
     ]
    }
   ],
   "source": [
    "print(\"Liczba polimorfizmów w odległości 20 nukleotydów w badanych genach\")\n",
    "\n",
    "for gene in unique_gene:\n",
    "    tmp = df[df[\"Gene\"]==gene]\n",
    "    print(f\"Gene: {gene:10} \\t SNPs: {tmp.shape[0]:4d}\")"
   ]
  }
 ]
}